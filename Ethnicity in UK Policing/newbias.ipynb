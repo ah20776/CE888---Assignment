{
  "nbformat": 4,
  "nbformat_minor": 0,
  "metadata": {
    "colab": {
      "name": "newbias.ipynb",
      "provenance": [],
      "collapsed_sections": [],
      "authorship_tag": "ABX9TyMPIpxzfwCcSaWG/WcmZ/Kn",
      "include_colab_link": true
    },
    "kernelspec": {
      "name": "python3",
      "display_name": "Python 3"
    }
  },
  "cells": [
    {
      "cell_type": "markdown",
      "metadata": {
        "id": "view-in-github",
        "colab_type": "text"
      },
      "source": [
        "<a href=\"https://colab.research.google.com/github/ah20776/CE888---Assignment/blob/main/Ethnicity%20in%20UK%20Policing/newbias.ipynb\" target=\"_parent\"><img src=\"https://colab.research.google.com/assets/colab-badge.svg\" alt=\"Open In Colab\"/></a>"
      ]
    },
    {
      "cell_type": "code",
      "metadata": {
        "id": "2LZ_wrXkXp4f"
      },
      "source": [
        "import numpy as np\r\n",
        "import pandas as pd\r\n",
        "import warnings\r\n",
        "warnings.filterwarnings(\"ignore\")"
      ],
      "execution_count": 11,
      "outputs": []
    },
    {
      "cell_type": "code",
      "metadata": {
        "colab": {
          "base_uri": "https://localhost:8080/"
        },
        "id": "qbx0ddh8Yl03",
        "outputId": "c44fe52c-0610-40f4-e20b-f6f1be3e097e"
      },
      "source": [
        "#Importing dataset saved in github\r\n",
        "!git clone https://github.com/ah20776/CE888---Assignment.git"
      ],
      "execution_count": 12,
      "outputs": [
        {
          "output_type": "stream",
          "text": [
            "fatal: destination path 'CE888---Assignment' already exists and is not an empty directory.\n"
          ],
          "name": "stdout"
        }
      ]
    },
    {
      "cell_type": "code",
      "metadata": {
        "colab": {
          "base_uri": "https://localhost:8080/",
          "height": 649
        },
        "id": "HEV0xmZ4u5YA",
        "outputId": "28176b37-9d17-4883-fc3a-004971c2bf3a"
      },
      "source": [
        "#ESSEX\r\n",
        "#using dataset already imported\r\n",
        "\r\n",
        "essex18_1 = pd.read_csv('/content/CE888---Assignment/Ethnicity in UK Policing/Essex 2018-20/2018-01-essex-stop-and-search.csv')\r\n",
        "essex18_1[\"Month\"] = \"January\"\r\n",
        "essex18_2 = pd.read_csv('/content/CE888---Assignment/Ethnicity in UK Policing/Essex 2018-20/2018-02-essex-stop-and-search.csv')\r\n",
        "essex18_2[\"Month\"] = \"February\"\r\n",
        "essex18_3 = pd.read_csv('/content/CE888---Assignment/Ethnicity in UK Policing/Essex 2018-20/2018-03-essex-stop-and-search.csv')\r\n",
        "essex18_3[\"Month\"] = \"March\"\r\n",
        "essex18_4 = pd.read_csv('/content/CE888---Assignment/Ethnicity in UK Policing/Essex 2018-20/2018-04-essex-stop-and-search.csv')\r\n",
        "essex18_4[\"Month\"] = \"April\"\r\n",
        "essex18_5 = pd.read_csv('/content/CE888---Assignment/Ethnicity in UK Policing/Essex 2018-20/2018-05-essex-stop-and-search.csv')\r\n",
        "essex18_5[\"Month\"] = \"May\"\r\n",
        "essex18_6 = pd.read_csv('/content/CE888---Assignment/Ethnicity in UK Policing/Essex 2018-20/2018-06-essex-stop-and-search.csv')\r\n",
        "essex18_6[\"Month\"] = \"June\"\r\n",
        "essex18_7 = pd.read_csv('/content/CE888---Assignment/Ethnicity in UK Policing/Essex 2018-20/2018-07-essex-stop-and-search.csv')\r\n",
        "essex18_7[\"Month\"] = \"July\"\r\n",
        "essex18_8 = pd.read_csv('/content/CE888---Assignment/Ethnicity in UK Policing/Essex 2018-20/2018-08-essex-stop-and-search.csv')\r\n",
        "essex18_8[\"Month\"] = \"August\"\r\n",
        "essex18_9 = pd.read_csv('/content/CE888---Assignment/Ethnicity in UK Policing/Essex 2018-20/2018-09-essex-stop-and-search.csv')\r\n",
        "essex18_9[\"Month\"] = \"September\"\r\n",
        "essex18_10 = pd.read_csv('/content/CE888---Assignment/Ethnicity in UK Policing/Essex 2018-20/2018-10-essex-stop-and-search.csv')\r\n",
        "essex18_10[\"Month\"] = \"October\"\r\n",
        "essex18_11 = pd.read_csv('/content/CE888---Assignment/Ethnicity in UK Policing/Essex 2018-20/2018-11-essex-stop-and-search.csv')\r\n",
        "essex18_11[\"Month\"] = \"November\"\r\n",
        "essex18_12 = pd.read_csv('/content/CE888---Assignment/Ethnicity in UK Policing/Essex 2018-20/2018-12-essex-stop-and-search.csv')\r\n",
        "essex18_12[\"Month\"] = \"December\"\r\n",
        "essex19_1 = pd.read_csv('/content/CE888---Assignment/Ethnicity in UK Policing/Essex 2018-20/2019-01-essex-stop-and-search.csv')\r\n",
        "essex19_1[\"Month\"] = \"January\"\r\n",
        "essex19_2 = pd.read_csv('/content/CE888---Assignment/Ethnicity in UK Policing/Essex 2018-20/2019-02-essex-stop-and-search.csv')\r\n",
        "essex19_2[\"Month\"] = \"February\"\r\n",
        "essex19_3 = pd.read_csv('/content/CE888---Assignment/Ethnicity in UK Policing/Essex 2018-20/2019-03-essex-stop-and-search.csv')\r\n",
        "essex19_3[\"Month\"] = \"March\"\r\n",
        "essex19_4 = pd.read_csv('/content/CE888---Assignment/Ethnicity in UK Policing/Essex 2018-20/2019-04-essex-stop-and-search.csv')\r\n",
        "essex19_4[\"Month\"] = \"April\"\r\n",
        "essex19_5 = pd.read_csv('/content/CE888---Assignment/Ethnicity in UK Policing/Essex 2018-20/2019-05-essex-stop-and-search.csv')\r\n",
        "essex19_5[\"Month\"] = \"May\"\r\n",
        "essex19_6 = pd.read_csv('/content/CE888---Assignment/Ethnicity in UK Policing/Essex 2018-20/2019-06-essex-stop-and-search.csv')\r\n",
        "essex19_6[\"Month\"] = \"June\"\r\n",
        "essex19_7 = pd.read_csv('/content/CE888---Assignment/Ethnicity in UK Policing/Essex 2018-20/2019-07-essex-stop-and-search.csv')\r\n",
        "essex19_7[\"Month\"] = \"July\"\r\n",
        "essex19_8 = pd.read_csv('/content/CE888---Assignment/Ethnicity in UK Policing/Essex 2018-20/2019-08-essex-stop-and-search.csv')\r\n",
        "essex19_8[\"Month\"] = \"August\"\r\n",
        "essex19_9 = pd.read_csv('/content/CE888---Assignment/Ethnicity in UK Policing/Essex 2018-20/2019-09-essex-stop-and-search.csv')\r\n",
        "essex19_9[\"Month\"] = \"September\"\r\n",
        "essex19_10 = pd.read_csv('/content/CE888---Assignment/Ethnicity in UK Policing/Essex 2018-20/2019-10-essex-stop-and-search.csv')\r\n",
        "essex19_10[\"Month\"] = \"October\"\r\n",
        "essex19_11 = pd.read_csv('/content/CE888---Assignment/Ethnicity in UK Policing/Essex 2018-20/2019-11-essex-stop-and-search.csv')\r\n",
        "essex19_11[\"Month\"] = \"November\"\r\n",
        "essex19_12 = pd.read_csv('/content/CE888---Assignment/Ethnicity in UK Policing/Essex 2018-20/2019-12-essex-stop-and-search.csv')\r\n",
        "essex19_12[\"Month\"] = \"December\"\r\n",
        "essex20_1 = pd.read_csv('/content/CE888---Assignment/Ethnicity in UK Policing/Essex 2018-20/2019-01-essex-stop-and-search.csv')\r\n",
        "essex20_1[\"Month\"] = \"January\"\r\n",
        "essex20_2 = pd.read_csv('/content/CE888---Assignment/Ethnicity in UK Policing/Essex 2018-20/2019-02-essex-stop-and-search.csv')\r\n",
        "essex20_2[\"Month\"] = \"February\"\r\n",
        "essex20_3 = pd.read_csv('/content/CE888---Assignment/Ethnicity in UK Policing/Essex 2018-20/2019-03-essex-stop-and-search.csv')\r\n",
        "essex20_3[\"Month\"] = \"March\"\r\n",
        "essex20_4 = pd.read_csv('/content/CE888---Assignment/Ethnicity in UK Policing/Essex 2018-20/2019-04-essex-stop-and-search.csv')\r\n",
        "essex20_4[\"Month\"] = \"April\"\r\n",
        "essex20_5 = pd.read_csv('/content/CE888---Assignment/Ethnicity in UK Policing/Essex 2018-20/2019-05-essex-stop-and-search.csv')\r\n",
        "essex20_5[\"Month\"] = \"May\"\r\n",
        "essex20_6 = pd.read_csv('/content/CE888---Assignment/Ethnicity in UK Policing/Essex 2018-20/2019-06-essex-stop-and-search.csv')\r\n",
        "essex20_6[\"Month\"] = \"June\"\r\n",
        "essex20_7 = pd.read_csv('/content/CE888---Assignment/Ethnicity in UK Policing/Essex 2018-20/2019-07-essex-stop-and-search.csv')\r\n",
        "essex20_7[\"Month\"] = \"July\"\r\n",
        "essex20_8 = pd.read_csv('/content/CE888---Assignment/Ethnicity in UK Policing/Essex 2018-20/2019-08-essex-stop-and-search.csv')\r\n",
        "essex20_8[\"Month\"] = \"August\"\r\n",
        "essex20_9 = pd.read_csv('/content/CE888---Assignment/Ethnicity in UK Policing/Essex 2018-20/2019-09-essex-stop-and-search.csv')\r\n",
        "essex20_9[\"Month\"] = \"September\"\r\n",
        "essex20_10 = pd.read_csv('/content/CE888---Assignment/Ethnicity in UK Policing/Essex 2018-20/2019-10-essex-stop-and-search.csv')\r\n",
        "essex20_10[\"Month\"] = \"October\"\r\n",
        "essex20_11 = pd.read_csv('/content/CE888---Assignment/Ethnicity in UK Policing/Essex 2018-20/2019-11-essex-stop-and-search.csv')\r\n",
        "essex20_11[\"Month\"] = \"November\"\r\n",
        "essex20_12 = pd.read_csv('/content/CE888---Assignment/Ethnicity in UK Policing/Essex 2018-20/2019-12-essex-stop-and-search.csv')\r\n",
        "essex20_12[\"Month\"] = \"December\"\r\n",
        "essex18 = pd.concat([essex18_1,essex18_2,essex18_3,essex18_4,essex18_5,essex18_6,essex18_7,essex18_8,essex18_9,essex18_10,essex18_11,essex18_12])\r\n",
        "essex18[\"Year\"] = 2018\r\n",
        "essex19 = pd.concat([essex19_1,essex19_2,essex19_3,essex19_4,essex19_5,essex19_6,essex19_7,essex19_8,essex19_9,essex19_10,essex19_11,essex19_12])\r\n",
        "essex19[\"Year\"] = 2019\r\n",
        "essex20 = pd.concat([essex20_1,essex20_2,essex20_3,essex20_4,essex20_5,essex20_6,essex20_7,essex20_8,essex20_9,essex20_10,essex20_11,essex20_12])\r\n",
        "essex20[\"Year\"] = 2020\r\n",
        "essex = pd.concat([essex18,essex19,essex20])\r\n",
        "essex[\"City\"] = \"Essex\"\r\n",
        "essex= pd.DataFrame(essex)\r\n",
        "essex.head()\r\n"
      ],
      "execution_count": 13,
      "outputs": [
        {
          "output_type": "execute_result",
          "data": {
            "text/html": [
              "<div>\n",
              "<style scoped>\n",
              "    .dataframe tbody tr th:only-of-type {\n",
              "        vertical-align: middle;\n",
              "    }\n",
              "\n",
              "    .dataframe tbody tr th {\n",
              "        vertical-align: top;\n",
              "    }\n",
              "\n",
              "    .dataframe thead th {\n",
              "        text-align: right;\n",
              "    }\n",
              "</style>\n",
              "<table border=\"1\" class=\"dataframe\">\n",
              "  <thead>\n",
              "    <tr style=\"text-align: right;\">\n",
              "      <th></th>\n",
              "      <th>Type</th>\n",
              "      <th>Date</th>\n",
              "      <th>Part of a policing operation</th>\n",
              "      <th>Policing operation</th>\n",
              "      <th>Latitude</th>\n",
              "      <th>Longitude</th>\n",
              "      <th>Gender</th>\n",
              "      <th>Age range</th>\n",
              "      <th>Self-defined ethnicity</th>\n",
              "      <th>Officer-defined ethnicity</th>\n",
              "      <th>Legislation</th>\n",
              "      <th>Object of search</th>\n",
              "      <th>Outcome</th>\n",
              "      <th>Outcome linked to object of search</th>\n",
              "      <th>Removal of more than just outer clothing</th>\n",
              "      <th>Month</th>\n",
              "      <th>Year</th>\n",
              "      <th>City</th>\n",
              "    </tr>\n",
              "  </thead>\n",
              "  <tbody>\n",
              "    <tr>\n",
              "      <th>0</th>\n",
              "      <td>Person search</td>\n",
              "      <td>2018-01-01T00:01:00+00:00</td>\n",
              "      <td>False</td>\n",
              "      <td>NaN</td>\n",
              "      <td>51.544045</td>\n",
              "      <td>0.693247</td>\n",
              "      <td>Male</td>\n",
              "      <td>25-34</td>\n",
              "      <td>Black/African/Caribbean/Black British - African</td>\n",
              "      <td>Black</td>\n",
              "      <td>Police and Criminal Evidence Act 1984 (section 1)</td>\n",
              "      <td>Evidence of offences under the Act</td>\n",
              "      <td>Nothing found - no further action</td>\n",
              "      <td>False</td>\n",
              "      <td>False</td>\n",
              "      <td>January</td>\n",
              "      <td>2018</td>\n",
              "      <td>Essex</td>\n",
              "    </tr>\n",
              "    <tr>\n",
              "      <th>1</th>\n",
              "      <td>Person search</td>\n",
              "      <td>2018-01-01T02:01:00+00:00</td>\n",
              "      <td>False</td>\n",
              "      <td>NaN</td>\n",
              "      <td>51.739265</td>\n",
              "      <td>0.679219</td>\n",
              "      <td>Male</td>\n",
              "      <td>25-34</td>\n",
              "      <td>White - English/Welsh/Scottish/Northern Irish/...</td>\n",
              "      <td>White</td>\n",
              "      <td>Police and Criminal Evidence Act 1984 (section 1)</td>\n",
              "      <td>Stolen goods</td>\n",
              "      <td>Nothing found - no further action</td>\n",
              "      <td>False</td>\n",
              "      <td>False</td>\n",
              "      <td>January</td>\n",
              "      <td>2018</td>\n",
              "      <td>Essex</td>\n",
              "    </tr>\n",
              "    <tr>\n",
              "      <th>2</th>\n",
              "      <td>Person search</td>\n",
              "      <td>2018-01-01T18:01:00+00:00</td>\n",
              "      <td>False</td>\n",
              "      <td>NaN</td>\n",
              "      <td>51.571156</td>\n",
              "      <td>0.485254</td>\n",
              "      <td>Male</td>\n",
              "      <td>18-24</td>\n",
              "      <td>Other ethnic group - Not stated</td>\n",
              "      <td>White</td>\n",
              "      <td>Misuse of Drugs Act 1971 (section 23)</td>\n",
              "      <td>Controlled drugs</td>\n",
              "      <td>Nothing found - no further action</td>\n",
              "      <td>False</td>\n",
              "      <td>False</td>\n",
              "      <td>January</td>\n",
              "      <td>2018</td>\n",
              "      <td>Essex</td>\n",
              "    </tr>\n",
              "    <tr>\n",
              "      <th>3</th>\n",
              "      <td>Person search</td>\n",
              "      <td>2018-01-01T18:01:00+00:00</td>\n",
              "      <td>False</td>\n",
              "      <td>NaN</td>\n",
              "      <td>51.571156</td>\n",
              "      <td>0.485254</td>\n",
              "      <td>Male</td>\n",
              "      <td>18-24</td>\n",
              "      <td>Other ethnic group - Not stated</td>\n",
              "      <td>White</td>\n",
              "      <td>Misuse of Drugs Act 1971 (section 23)</td>\n",
              "      <td>Controlled drugs</td>\n",
              "      <td>Nothing found - no further action</td>\n",
              "      <td>False</td>\n",
              "      <td>False</td>\n",
              "      <td>January</td>\n",
              "      <td>2018</td>\n",
              "      <td>Essex</td>\n",
              "    </tr>\n",
              "    <tr>\n",
              "      <th>4</th>\n",
              "      <td>Vehicle search</td>\n",
              "      <td>2018-01-01T18:01:00+00:00</td>\n",
              "      <td>False</td>\n",
              "      <td>NaN</td>\n",
              "      <td>51.571369</td>\n",
              "      <td>0.486247</td>\n",
              "      <td>NaN</td>\n",
              "      <td>NaN</td>\n",
              "      <td>NaN</td>\n",
              "      <td>NaN</td>\n",
              "      <td>Misuse of Drugs Act 1971 (section 23)</td>\n",
              "      <td>Controlled drugs</td>\n",
              "      <td>Nothing found - no further action</td>\n",
              "      <td>False</td>\n",
              "      <td>NaN</td>\n",
              "      <td>January</td>\n",
              "      <td>2018</td>\n",
              "      <td>Essex</td>\n",
              "    </tr>\n",
              "  </tbody>\n",
              "</table>\n",
              "</div>"
            ],
            "text/plain": [
              "             Type                       Date  ...  Year   City\n",
              "0   Person search  2018-01-01T00:01:00+00:00  ...  2018  Essex\n",
              "1   Person search  2018-01-01T02:01:00+00:00  ...  2018  Essex\n",
              "2   Person search  2018-01-01T18:01:00+00:00  ...  2018  Essex\n",
              "3   Person search  2018-01-01T18:01:00+00:00  ...  2018  Essex\n",
              "4  Vehicle search  2018-01-01T18:01:00+00:00  ...  2018  Essex\n",
              "\n",
              "[5 rows x 18 columns]"
            ]
          },
          "metadata": {
            "tags": []
          },
          "execution_count": 13
        }
      ]
    },
    {
      "cell_type": "code",
      "metadata": {
        "colab": {
          "base_uri": "https://localhost:8080/",
          "height": 649
        },
        "id": "Fqwxp33z2VyX",
        "outputId": "6de418ee-fc6c-4602-b5f4-1e65fa4f7781"
      },
      "source": [
        "#KENT\r\n",
        "\r\n",
        "kent18_1 = pd.read_csv('/content/CE888---Assignment/Ethnicity in UK Policing/Kent 2018-20/2018-01-kent-stop-and-search.csv')\r\n",
        "kent18_1[\"Month\"] = \"January\"\r\n",
        "kent18_2 = pd.read_csv('/content/CE888---Assignment/Ethnicity in UK Policing/Kent 2018-20/2018-02-kent-stop-and-search.csv')\r\n",
        "kent18_2[\"Month\"] = \"February\"\r\n",
        "kent18_3 = pd.read_csv('/content/CE888---Assignment/Ethnicity in UK Policing/Kent 2018-20/2018-03-kent-stop-and-search.csv')\r\n",
        "kent18_3[\"Month\"] = \"March\"\r\n",
        "kent18_4 = pd.read_csv('/content/CE888---Assignment/Ethnicity in UK Policing/Kent 2018-20/2018-04-kent-stop-and-search.csv')\r\n",
        "kent18_4[\"Month\"] = \"April\"\r\n",
        "kent18_5 = pd.read_csv('/content/CE888---Assignment/Ethnicity in UK Policing/Kent 2018-20/2018-05-kent-stop-and-search.csv')\r\n",
        "kent18_5[\"Month\"] = \"May\"\r\n",
        "kent18_6 = pd.read_csv('/content/CE888---Assignment/Ethnicity in UK Policing/Kent 2018-20/2018-06-kent-stop-and-search.csv')\r\n",
        "kent18_6[\"Month\"] = \"June\"\r\n",
        "kent18_7 = pd.read_csv('/content/CE888---Assignment/Ethnicity in UK Policing/Kent 2018-20/2018-07-kent-stop-and-search.csv')\r\n",
        "kent18_7[\"Month\"] = \"July\"\r\n",
        "kent18_8 = pd.read_csv('/content/CE888---Assignment/Ethnicity in UK Policing/Kent 2018-20/2018-08-kent-stop-and-search.csv')\r\n",
        "kent18_8[\"Month\"] = \"August\"\r\n",
        "kent18_9 = pd.read_csv('/content/CE888---Assignment/Ethnicity in UK Policing/Kent 2018-20/2018-09-kent-stop-and-search.csv')\r\n",
        "kent18_9[\"Month\"] = \"September\"\r\n",
        "kent18_10 = pd.read_csv('/content/CE888---Assignment/Ethnicity in UK Policing/Kent 2018-20/2018-10-kent-stop-and-search.csv')\r\n",
        "kent18_10[\"Month\"] = \"October\"\r\n",
        "kent18_11 = pd.read_csv('/content/CE888---Assignment/Ethnicity in UK Policing/Kent 2018-20/2018-11-kent-stop-and-search.csv')\r\n",
        "kent18_11[\"Month\"] = \"November\"\r\n",
        "kent18_12 = pd.read_csv('/content/CE888---Assignment/Ethnicity in UK Policing/Kent 2018-20/2018-12-kent-stop-and-search.csv')\r\n",
        "kent18_12[\"Month\"] = \"December\"\r\n",
        "kent19_1 = pd.read_csv('/content/CE888---Assignment/Ethnicity in UK Policing/Kent 2018-20/2019-01-kent-stop-and-search.csv')\r\n",
        "kent19_1[\"Month\"] = \"January\"\r\n",
        "kent19_2 = pd.read_csv('/content/CE888---Assignment/Ethnicity in UK Policing/Kent 2018-20/2019-02-kent-stop-and-search.csv')\r\n",
        "kent19_2[\"Month\"] = \"February\"\r\n",
        "kent19_3 = pd.read_csv('/content/CE888---Assignment/Ethnicity in UK Policing/Kent 2018-20/2019-03-kent-stop-and-search.csv')\r\n",
        "kent19_3[\"Month\"] = \"March\"\r\n",
        "kent19_4 = pd.read_csv('/content/CE888---Assignment/Ethnicity in UK Policing/Kent 2018-20/2019-04-kent-stop-and-search.csv')\r\n",
        "kent19_4[\"Month\"] = \"April\"\r\n",
        "kent19_5 = pd.read_csv('/content/CE888---Assignment/Ethnicity in UK Policing/Kent 2018-20/2019-05-kent-stop-and-search.csv')\r\n",
        "kent19_5[\"Month\"] = \"May\"\r\n",
        "kent19_6 = pd.read_csv('/content/CE888---Assignment/Ethnicity in UK Policing/Kent 2018-20/2019-06-kent-stop-and-search.csv')\r\n",
        "kent19_6[\"Month\"] = \"June\"\r\n",
        "kent19_7 = pd.read_csv('/content/CE888---Assignment/Ethnicity in UK Policing/Kent 2018-20/2019-07-kent-stop-and-search.csv')\r\n",
        "kent19_7[\"Month\"] = \"July\"\r\n",
        "kent19_8 = pd.read_csv('/content/CE888---Assignment/Ethnicity in UK Policing/Kent 2018-20/2019-08-kent-stop-and-search.csv')\r\n",
        "kent19_8[\"Month\"] = \"August\"\r\n",
        "kent19_9 = pd.read_csv('/content/CE888---Assignment/Ethnicity in UK Policing/Kent 2018-20/2019-09-kent-stop-and-search.csv')\r\n",
        "kent19_9[\"Month\"] = \"September\"\r\n",
        "kent19_10 = pd.read_csv('/content/CE888---Assignment/Ethnicity in UK Policing/Kent 2018-20/2019-10-kent-stop-and-search.csv')\r\n",
        "kent19_10[\"Month\"] = \"October\"\r\n",
        "kent19_11 = pd.read_csv('/content/CE888---Assignment/Ethnicity in UK Policing/Kent 2018-20/2019-11-kent-stop-and-search.csv')\r\n",
        "kent19_11[\"Month\"] = \"November\"\r\n",
        "kent19_12 = pd.read_csv('/content/CE888---Assignment/Ethnicity in UK Policing/Kent 2018-20/2019-12-kent-stop-and-search.csv')\r\n",
        "kent19_12[\"Month\"] = \"December\"\r\n",
        "kent20_1 = pd.read_csv('/content/CE888---Assignment/Ethnicity in UK Policing/Kent 2018-20/2020-01-kent-stop-and-search.csv')\r\n",
        "kent20_1[\"Month\"] = \"January\"\r\n",
        "kent20_2 = pd.read_csv('/content/CE888---Assignment/Ethnicity in UK Policing/Kent 2018-20/2020-02-kent-stop-and-search.csv')\r\n",
        "kent20_2[\"Month\"] = \"February\"\r\n",
        "kent20_3 = pd.read_csv('/content/CE888---Assignment/Ethnicity in UK Policing/Kent 2018-20/2020-03-kent-stop-and-search.csv')\r\n",
        "kent20_3[\"Month\"] = \"March\"\r\n",
        "kent20_4 = pd.read_csv('/content/CE888---Assignment/Ethnicity in UK Policing/Kent 2018-20/2020-04-kent-stop-and-search.csv')\r\n",
        "kent20_4[\"Month\"] = \"April\"\r\n",
        "kent20_5 = pd.read_csv('/content/CE888---Assignment/Ethnicity in UK Policing/Kent 2018-20/2020-05-kent-stop-and-search.csv')\r\n",
        "kent20_5[\"Month\"] = \"May\"\r\n",
        "kent20_6 = pd.read_csv('/content/CE888---Assignment/Ethnicity in UK Policing/Kent 2018-20/2020-06-kent-stop-and-search.csv')\r\n",
        "kent20_6[\"Month\"] = \"June\"\r\n",
        "kent20_7 = pd.read_csv('/content/CE888---Assignment/Ethnicity in UK Policing/Kent 2018-20/2020-07-kent-stop-and-search.csv')\r\n",
        "kent20_7[\"Month\"] = \"July\"\r\n",
        "kent20_8 = pd.read_csv('/content/CE888---Assignment/Ethnicity in UK Policing/Kent 2018-20/2020-08-kent-stop-and-search.csv')\r\n",
        "kent20_8[\"Month\"] = \"August\"\r\n",
        "kent20_9 = pd.read_csv('/content/CE888---Assignment/Ethnicity in UK Policing/Kent 2018-20/2020-09-kent-stop-and-search.csv')\r\n",
        "kent20_9[\"Month\"] = \"September\"\r\n",
        "kent20_10 = pd.read_csv('/content/CE888---Assignment/Ethnicity in UK Policing/Kent 2018-20/2020-10-kent-stop-and-search.csv')\r\n",
        "kent20_10[\"Month\"] = \"October\"\r\n",
        "kent20_11 = pd.read_csv('/content/CE888---Assignment/Ethnicity in UK Policing/Kent 2018-20/2020-11-kent-stop-and-search.csv')\r\n",
        "kent20_11[\"Month\"] = \"November\"\r\n",
        "kent20_12 = pd.read_csv('/content/CE888---Assignment/Ethnicity in UK Policing/Kent 2018-20/2020-12-kent-stop-and-search.csv')\r\n",
        "kent20_12[\"Month\"] = \"December\"\r\n",
        "kent18 = pd.concat([kent18_1,kent18_2,kent18_3,kent18_4,kent18_5,kent18_6,kent18_7,kent18_8,kent18_9,kent18_10,kent18_11,kent18_12])\r\n",
        "kent18[\"Year\"] = 2018\r\n",
        "kent19 = pd.concat([kent19_1,kent19_2,kent19_3,kent19_4,kent19_5,kent19_6,kent19_7,kent19_8,kent19_9,kent19_10,kent19_11,kent19_12])\r\n",
        "kent19[\"Year\"] = 2019\r\n",
        "kent20 = pd.concat([kent20_1,kent20_2,kent20_3,kent20_4,kent20_5,kent20_6,kent20_7,kent20_8,kent20_9,kent20_10,kent20_11,kent20_12])\r\n",
        "kent20[\"Year\"] = 2020\r\n",
        "kent = pd.concat([kent18,kent19,kent20])\r\n",
        "kent[\"City\"] = \"Kent\"\r\n",
        "kent= pd.DataFrame(kent)\r\n",
        "kent.head()"
      ],
      "execution_count": 14,
      "outputs": [
        {
          "output_type": "execute_result",
          "data": {
            "text/html": [
              "<div>\n",
              "<style scoped>\n",
              "    .dataframe tbody tr th:only-of-type {\n",
              "        vertical-align: middle;\n",
              "    }\n",
              "\n",
              "    .dataframe tbody tr th {\n",
              "        vertical-align: top;\n",
              "    }\n",
              "\n",
              "    .dataframe thead th {\n",
              "        text-align: right;\n",
              "    }\n",
              "</style>\n",
              "<table border=\"1\" class=\"dataframe\">\n",
              "  <thead>\n",
              "    <tr style=\"text-align: right;\">\n",
              "      <th></th>\n",
              "      <th>Type</th>\n",
              "      <th>Date</th>\n",
              "      <th>Part of a policing operation</th>\n",
              "      <th>Policing operation</th>\n",
              "      <th>Latitude</th>\n",
              "      <th>Longitude</th>\n",
              "      <th>Gender</th>\n",
              "      <th>Age range</th>\n",
              "      <th>Self-defined ethnicity</th>\n",
              "      <th>Officer-defined ethnicity</th>\n",
              "      <th>Legislation</th>\n",
              "      <th>Object of search</th>\n",
              "      <th>Outcome</th>\n",
              "      <th>Outcome linked to object of search</th>\n",
              "      <th>Removal of more than just outer clothing</th>\n",
              "      <th>Month</th>\n",
              "      <th>Year</th>\n",
              "      <th>City</th>\n",
              "    </tr>\n",
              "  </thead>\n",
              "  <tbody>\n",
              "    <tr>\n",
              "      <th>0</th>\n",
              "      <td>Person and Vehicle search</td>\n",
              "      <td>2018-01-01T00:20:00+00:00</td>\n",
              "      <td>False</td>\n",
              "      <td>NaN</td>\n",
              "      <td>51.428302</td>\n",
              "      <td>0.385491</td>\n",
              "      <td>Male</td>\n",
              "      <td>10-17</td>\n",
              "      <td>White - English/Welsh/Scottish/Northern Irish/...</td>\n",
              "      <td>White</td>\n",
              "      <td>Police and Criminal Evidence Act 1984 (section 1)</td>\n",
              "      <td>Offensive weapons</td>\n",
              "      <td>Nothing found - no further action</td>\n",
              "      <td>False</td>\n",
              "      <td>NaN</td>\n",
              "      <td>January</td>\n",
              "      <td>2018</td>\n",
              "      <td>Kent</td>\n",
              "    </tr>\n",
              "    <tr>\n",
              "      <th>1</th>\n",
              "      <td>Person search</td>\n",
              "      <td>2018-01-01T03:00:00+00:00</td>\n",
              "      <td>False</td>\n",
              "      <td>NaN</td>\n",
              "      <td>51.375312</td>\n",
              "      <td>0.539108</td>\n",
              "      <td>Male</td>\n",
              "      <td>10-17</td>\n",
              "      <td>White - English/Welsh/Scottish/Northern Irish/...</td>\n",
              "      <td>White</td>\n",
              "      <td>Police and Criminal Evidence Act 1984 (section 1)</td>\n",
              "      <td>Offensive weapons</td>\n",
              "      <td>Local resolution</td>\n",
              "      <td>False</td>\n",
              "      <td>NaN</td>\n",
              "      <td>January</td>\n",
              "      <td>2018</td>\n",
              "      <td>Kent</td>\n",
              "    </tr>\n",
              "    <tr>\n",
              "      <th>2</th>\n",
              "      <td>Person and Vehicle search</td>\n",
              "      <td>2018-01-01T03:10:00+00:00</td>\n",
              "      <td>False</td>\n",
              "      <td>NaN</td>\n",
              "      <td>51.280557</td>\n",
              "      <td>1.076174</td>\n",
              "      <td>Male</td>\n",
              "      <td>18-24</td>\n",
              "      <td>White - English/Welsh/Scottish/Northern Irish/...</td>\n",
              "      <td>White</td>\n",
              "      <td>Police and Criminal Evidence Act 1984 (section 1)</td>\n",
              "      <td>Offensive weapons</td>\n",
              "      <td>Nothing found - no further action</td>\n",
              "      <td>False</td>\n",
              "      <td>NaN</td>\n",
              "      <td>January</td>\n",
              "      <td>2018</td>\n",
              "      <td>Kent</td>\n",
              "    </tr>\n",
              "    <tr>\n",
              "      <th>3</th>\n",
              "      <td>Person search</td>\n",
              "      <td>2018-01-01T03:20:00+00:00</td>\n",
              "      <td>False</td>\n",
              "      <td>NaN</td>\n",
              "      <td>NaN</td>\n",
              "      <td>NaN</td>\n",
              "      <td>Male</td>\n",
              "      <td>10-17</td>\n",
              "      <td>Other ethnic group - Not stated</td>\n",
              "      <td>White</td>\n",
              "      <td>Police and Criminal Evidence Act 1984 (section 1)</td>\n",
              "      <td>Offensive weapons</td>\n",
              "      <td>Suspect arrested</td>\n",
              "      <td>False</td>\n",
              "      <td>NaN</td>\n",
              "      <td>January</td>\n",
              "      <td>2018</td>\n",
              "      <td>Kent</td>\n",
              "    </tr>\n",
              "    <tr>\n",
              "      <th>4</th>\n",
              "      <td>Person and Vehicle search</td>\n",
              "      <td>2018-01-01T06:35:00+00:00</td>\n",
              "      <td>False</td>\n",
              "      <td>NaN</td>\n",
              "      <td>51.451191</td>\n",
              "      <td>0.277395</td>\n",
              "      <td>Male</td>\n",
              "      <td>18-24</td>\n",
              "      <td>White - English/Welsh/Scottish/Northern Irish/...</td>\n",
              "      <td>White</td>\n",
              "      <td>Police and Criminal Evidence Act 1984 (section 1)</td>\n",
              "      <td>Stolen goods</td>\n",
              "      <td>Nothing found - no further action</td>\n",
              "      <td>False</td>\n",
              "      <td>NaN</td>\n",
              "      <td>January</td>\n",
              "      <td>2018</td>\n",
              "      <td>Kent</td>\n",
              "    </tr>\n",
              "  </tbody>\n",
              "</table>\n",
              "</div>"
            ],
            "text/plain": [
              "                        Type                       Date  ...  Year  City\n",
              "0  Person and Vehicle search  2018-01-01T00:20:00+00:00  ...  2018  Kent\n",
              "1              Person search  2018-01-01T03:00:00+00:00  ...  2018  Kent\n",
              "2  Person and Vehicle search  2018-01-01T03:10:00+00:00  ...  2018  Kent\n",
              "3              Person search  2018-01-01T03:20:00+00:00  ...  2018  Kent\n",
              "4  Person and Vehicle search  2018-01-01T06:35:00+00:00  ...  2018  Kent\n",
              "\n",
              "[5 rows x 18 columns]"
            ]
          },
          "metadata": {
            "tags": []
          },
          "execution_count": 14
        }
      ]
    },
    {
      "cell_type": "code",
      "metadata": {
        "colab": {
          "base_uri": "https://localhost:8080/",
          "height": 632
        },
        "id": "rkAXo9Rd35L0",
        "outputId": "60295f0b-0dd5-4b61-9c0d-fc49ab69f266"
      },
      "source": [
        "#LONDON\r\n",
        "\r\n",
        "london18_1 = pd.read_csv('/content/CE888---Assignment/Ethnicity in UK Policing/London 2018-20/2018-01-city-of-london-stop-and-search.csv')\r\n",
        "london18_1[\"Month\"] = \"January\"\r\n",
        "london18_2 = pd.read_csv('/content/CE888---Assignment/Ethnicity in UK Policing/London 2018-20/2018-02-city-of-london-stop-and-search.csv')\r\n",
        "london18_2[\"Month\"] = \"February\"\r\n",
        "london18_3 = pd.read_csv('/content/CE888---Assignment/Ethnicity in UK Policing/London 2018-20/2018-03-city-of-london-stop-and-search.csv')\r\n",
        "london18_3[\"Month\"] = \"March\"\r\n",
        "london18_4 = pd.read_csv('/content/CE888---Assignment/Ethnicity in UK Policing/London 2018-20/2018-04-city-of-london-stop-and-search.csv')\r\n",
        "london18_4[\"Month\"] = \"April\"\r\n",
        "london18_5 = pd.read_csv('/content/CE888---Assignment/Ethnicity in UK Policing/London 2018-20/2018-05-city-of-london-stop-and-search.csv')\r\n",
        "london18_5[\"Month\"] = \"May\"\r\n",
        "london18_6 = pd.read_csv('/content/CE888---Assignment/Ethnicity in UK Policing/London 2018-20/2018-06-city-of-london-stop-and-search.csv')\r\n",
        "london18_6[\"Month\"] = \"June\"\r\n",
        "london18_7 = pd.read_csv('/content/CE888---Assignment/Ethnicity in UK Policing/London 2018-20/2018-07-city-of-london-stop-and-search.csv')\r\n",
        "london18_7[\"Month\"] = \"July\"\r\n",
        "london18_8 = pd.read_csv('/content/CE888---Assignment/Ethnicity in UK Policing/London 2018-20/2018-08-city-of-london-stop-and-search.csv')\r\n",
        "london18_8[\"Month\"] = \"August\"\r\n",
        "london18_9 = pd.read_csv('/content/CE888---Assignment/Ethnicity in UK Policing/London 2018-20/2018-09-city-of-london-stop-and-search.csv')\r\n",
        "london18_9[\"Month\"] = \"September\"\r\n",
        "london18_10 = pd.read_csv('/content/CE888---Assignment/Ethnicity in UK Policing/London 2018-20/2018-10-city-of-london-stop-and-search.csv')\r\n",
        "london18_10[\"Month\"] = \"October\"\r\n",
        "london18_11 = pd.read_csv('/content/CE888---Assignment/Ethnicity in UK Policing/London 2018-20/2018-11-city-of-london-stop-and-search.csv')\r\n",
        "london18_11[\"Month\"] = \"November\"\r\n",
        "london18_12 = pd.read_csv('/content/CE888---Assignment/Ethnicity in UK Policing/London 2018-20/2018-12-city-of-london-stop-and-search.csv')\r\n",
        "london18_12[\"Month\"] = \"December\"\r\n",
        "london19_1 = pd.read_csv('/content/CE888---Assignment/Ethnicity in UK Policing/London 2018-20/2019-01-city-of-london-stop-and-search.csv')\r\n",
        "london19_1[\"Month\"] = \"January\"\r\n",
        "london19_2 = pd.read_csv('/content/CE888---Assignment/Ethnicity in UK Policing/London 2018-20/2019-02-city-of-london-stop-and-search.csv')\r\n",
        "london19_2[\"Month\"] = \"February\"\r\n",
        "london19_3 = pd.read_csv('/content/CE888---Assignment/Ethnicity in UK Policing/London 2018-20/2019-03-city-of-london-stop-and-search.csv')\r\n",
        "london19_3[\"Month\"] = \"March\"\r\n",
        "london19_4 = pd.read_csv('/content/CE888---Assignment/Ethnicity in UK Policing/London 2018-20/2019-04-city-of-london-stop-and-search.csv')\r\n",
        "london19_4[\"Month\"] = \"April\"\r\n",
        "london19_5 = pd.read_csv('/content/CE888---Assignment/Ethnicity in UK Policing/London 2018-20/2019-05-city-of-london-stop-and-search.csv')\r\n",
        "london19_5[\"Month\"] = \"May\"\r\n",
        "london19_6 = pd.read_csv('/content/CE888---Assignment/Ethnicity in UK Policing/London 2018-20/2019-06-city-of-london-stop-and-search.csv')\r\n",
        "london19_6[\"Month\"] = \"June\"\r\n",
        "london19_7 = pd.read_csv('/content/CE888---Assignment/Ethnicity in UK Policing/London 2018-20/2019-07-city-of-london-stop-and-search.csv')\r\n",
        "london19_7[\"Month\"] = \"July\"\r\n",
        "london19_8 = pd.read_csv('/content/CE888---Assignment/Ethnicity in UK Policing/London 2018-20/2019-08-city-of-london-stop-and-search.csv')\r\n",
        "london19_8[\"Month\"] = \"August\"\r\n",
        "london19_9 = pd.read_csv('/content/CE888---Assignment/Ethnicity in UK Policing/London 2018-20/2019-09-city-of-london-stop-and-search.csv')\r\n",
        "london19_9[\"Month\"] = \"September\"\r\n",
        "london19_10 = pd.read_csv('/content/CE888---Assignment/Ethnicity in UK Policing/London 2018-20/2019-10-city-of-london-stop-and-search.csv')\r\n",
        "london19_10[\"Month\"] = \"October\"\r\n",
        "london19_11 = pd.read_csv('/content/CE888---Assignment/Ethnicity in UK Policing/London 2018-20/2019-11-city-of-london-stop-and-search.csv')\r\n",
        "london19_11[\"Month\"] = \"November\"\r\n",
        "london19_12 = pd.read_csv('/content/CE888---Assignment/Ethnicity in UK Policing/London 2018-20/2019-12-city-of-london-stop-and-search.csv')\r\n",
        "london19_12[\"Month\"] = \"December\"\r\n",
        "london20_1 = pd.read_csv('/content/CE888---Assignment/Ethnicity in UK Policing/London 2018-20/2020-01-city-of-london-stop-and-search.csv')\r\n",
        "london20_1[\"Month\"] = \"January\"\r\n",
        "london20_2 = pd.read_csv('/content/CE888---Assignment/Ethnicity in UK Policing/London 2018-20/2020-02-city-of-london-stop-and-search.csv')\r\n",
        "london20_2[\"Month\"] = \"February\"\r\n",
        "london20_3 = pd.read_csv('/content/CE888---Assignment/Ethnicity in UK Policing/London 2018-20/2020-03-city-of-london-stop-and-search.csv')\r\n",
        "london20_3[\"Month\"] = \"March\"\r\n",
        "london20_4 = pd.read_csv('/content/CE888---Assignment/Ethnicity in UK Policing/London 2018-20/2020-04-city-of-london-stop-and-search.csv')\r\n",
        "london20_4[\"Month\"] = \"April\"\r\n",
        "london20_5 = pd.read_csv('/content/CE888---Assignment/Ethnicity in UK Policing/London 2018-20/2020-05-city-of-london-stop-and-search.csv')\r\n",
        "london20_5[\"Month\"] = \"May\"\r\n",
        "london20_6 = pd.read_csv('/content/CE888---Assignment/Ethnicity in UK Policing/London 2018-20/2020-06-city-of-london-stop-and-search.csv')\r\n",
        "london20_6[\"Month\"] = \"June\"\r\n",
        "london20_7 = pd.read_csv('/content/CE888---Assignment/Ethnicity in UK Policing/London 2018-20/2020-07-city-of-london-stop-and-search.csv')\r\n",
        "london20_7[\"Month\"] = \"July\"\r\n",
        "london20_8 = pd.read_csv('/content/CE888---Assignment/Ethnicity in UK Policing/London 2018-20/2020-08-city-of-london-stop-and-search.csv')\r\n",
        "london20_8[\"Month\"] = \"August\"\r\n",
        "london20_9 = pd.read_csv('/content/CE888---Assignment/Ethnicity in UK Policing/London 2018-20/2020-09-city-of-london-stop-and-search.csv')\r\n",
        "london20_9[\"Month\"] = \"September\"\r\n",
        "london20_10 = pd.read_csv('/content/CE888---Assignment/Ethnicity in UK Policing/London 2018-20/2020-10-city-of-london-stop-and-search.csv')\r\n",
        "london20_10[\"Month\"] = \"October\"\r\n",
        "london20_11 = pd.read_csv('/content/CE888---Assignment/Ethnicity in UK Policing/London 2018-20/2020-11-city-of-london-stop-and-search.csv')\r\n",
        "london20_11[\"Month\"] = \"November\"\r\n",
        "london20_12 = pd.read_csv('/content/CE888---Assignment/Ethnicity in UK Policing/London 2018-20/2020-12-city-of-london-stop-and-search.csv')\r\n",
        "london20_12[\"Month\"] = \"December\"\r\n",
        "london18 = pd.concat([london18_1,london18_2,london18_3,london18_4,london18_5,london18_6,london18_7,london18_8,london18_9,london18_10,london18_11,london18_12])\r\n",
        "london18[\"Year\"] = 2018\r\n",
        "london19 = pd.concat([london19_1,london19_2,london19_3,london19_4,london19_5,london19_6,london19_7,london19_8,london19_9,london19_10,london19_11,london19_12])\r\n",
        "london19[\"Year\"] = 2019\r\n",
        "london20 = pd.concat([london20_1,london20_2,london20_3,london20_4,london20_5,london20_6,london20_7,london20_8,london20_9,london20_10,london20_11,london20_12])\r\n",
        "london20[\"Year\"] = 2020\r\n",
        "london = pd.concat([london18,london19,london20])\r\n",
        "london[\"City\"] = \"London\"\r\n",
        "london= pd.DataFrame(london)\r\n",
        "london.head()"
      ],
      "execution_count": 15,
      "outputs": [
        {
          "output_type": "execute_result",
          "data": {
            "text/html": [
              "<div>\n",
              "<style scoped>\n",
              "    .dataframe tbody tr th:only-of-type {\n",
              "        vertical-align: middle;\n",
              "    }\n",
              "\n",
              "    .dataframe tbody tr th {\n",
              "        vertical-align: top;\n",
              "    }\n",
              "\n",
              "    .dataframe thead th {\n",
              "        text-align: right;\n",
              "    }\n",
              "</style>\n",
              "<table border=\"1\" class=\"dataframe\">\n",
              "  <thead>\n",
              "    <tr style=\"text-align: right;\">\n",
              "      <th></th>\n",
              "      <th>Type</th>\n",
              "      <th>Date</th>\n",
              "      <th>Part of a policing operation</th>\n",
              "      <th>Policing operation</th>\n",
              "      <th>Latitude</th>\n",
              "      <th>Longitude</th>\n",
              "      <th>Gender</th>\n",
              "      <th>Age range</th>\n",
              "      <th>Self-defined ethnicity</th>\n",
              "      <th>Officer-defined ethnicity</th>\n",
              "      <th>Legislation</th>\n",
              "      <th>Object of search</th>\n",
              "      <th>Outcome</th>\n",
              "      <th>Outcome linked to object of search</th>\n",
              "      <th>Removal of more than just outer clothing</th>\n",
              "      <th>Month</th>\n",
              "      <th>Year</th>\n",
              "      <th>City</th>\n",
              "    </tr>\n",
              "  </thead>\n",
              "  <tbody>\n",
              "    <tr>\n",
              "      <th>0</th>\n",
              "      <td>Person search</td>\n",
              "      <td>2018-01-01T00:55:00+00:00</td>\n",
              "      <td>NaN</td>\n",
              "      <td>NaN</td>\n",
              "      <td>51.515142</td>\n",
              "      <td>-0.097645</td>\n",
              "      <td>Male</td>\n",
              "      <td>25-34</td>\n",
              "      <td>White - Any other White background</td>\n",
              "      <td>White</td>\n",
              "      <td>Police and Criminal Evidence Act 1984 (section 1)</td>\n",
              "      <td>Stolen goods</td>\n",
              "      <td>Nothing found - no further action</td>\n",
              "      <td>NaN</td>\n",
              "      <td>False</td>\n",
              "      <td>January</td>\n",
              "      <td>2018</td>\n",
              "      <td>London</td>\n",
              "    </tr>\n",
              "    <tr>\n",
              "      <th>1</th>\n",
              "      <td>Person search</td>\n",
              "      <td>2018-01-01T00:58:00+00:00</td>\n",
              "      <td>NaN</td>\n",
              "      <td>NaN</td>\n",
              "      <td>51.515142</td>\n",
              "      <td>-0.097645</td>\n",
              "      <td>Male</td>\n",
              "      <td>over 34</td>\n",
              "      <td>Other ethnic group - Not stated</td>\n",
              "      <td>Other</td>\n",
              "      <td>Police and Criminal Evidence Act 1984 (section 1)</td>\n",
              "      <td>Evidence of offences under the Act</td>\n",
              "      <td>Nothing found - no further action</td>\n",
              "      <td>False</td>\n",
              "      <td>False</td>\n",
              "      <td>January</td>\n",
              "      <td>2018</td>\n",
              "      <td>London</td>\n",
              "    </tr>\n",
              "    <tr>\n",
              "      <th>2</th>\n",
              "      <td>Person and Vehicle search</td>\n",
              "      <td>2018-01-01T01:25:00+00:00</td>\n",
              "      <td>NaN</td>\n",
              "      <td>NaN</td>\n",
              "      <td>NaN</td>\n",
              "      <td>NaN</td>\n",
              "      <td>Male</td>\n",
              "      <td>18-24</td>\n",
              "      <td>Black/African/Caribbean/Black British - African</td>\n",
              "      <td>Black</td>\n",
              "      <td>Misuse of Drugs Act 1971 (section 23)</td>\n",
              "      <td>Controlled drugs</td>\n",
              "      <td>Nothing found - no further action</td>\n",
              "      <td>True</td>\n",
              "      <td>False</td>\n",
              "      <td>January</td>\n",
              "      <td>2018</td>\n",
              "      <td>London</td>\n",
              "    </tr>\n",
              "    <tr>\n",
              "      <th>3</th>\n",
              "      <td>Person and Vehicle search</td>\n",
              "      <td>2018-01-01T01:25:00+00:00</td>\n",
              "      <td>NaN</td>\n",
              "      <td>NaN</td>\n",
              "      <td>NaN</td>\n",
              "      <td>NaN</td>\n",
              "      <td>Male</td>\n",
              "      <td>25-34</td>\n",
              "      <td>Black/African/Caribbean/Black British - African</td>\n",
              "      <td>Black</td>\n",
              "      <td>Misuse of Drugs Act 1971 (section 23)</td>\n",
              "      <td>Controlled drugs</td>\n",
              "      <td>Offender given drugs possession warning</td>\n",
              "      <td>True</td>\n",
              "      <td>False</td>\n",
              "      <td>January</td>\n",
              "      <td>2018</td>\n",
              "      <td>London</td>\n",
              "    </tr>\n",
              "    <tr>\n",
              "      <th>4</th>\n",
              "      <td>Person and Vehicle search</td>\n",
              "      <td>2018-01-01T01:30:00+00:00</td>\n",
              "      <td>NaN</td>\n",
              "      <td>NaN</td>\n",
              "      <td>51.512650</td>\n",
              "      <td>-0.101452</td>\n",
              "      <td>Male</td>\n",
              "      <td>18-24</td>\n",
              "      <td>Black/African/Caribbean/Black British - African</td>\n",
              "      <td>Black</td>\n",
              "      <td>Misuse of Drugs Act 1971 (section 23)</td>\n",
              "      <td>Controlled drugs</td>\n",
              "      <td>Offender given drugs possession warning</td>\n",
              "      <td>True</td>\n",
              "      <td>False</td>\n",
              "      <td>January</td>\n",
              "      <td>2018</td>\n",
              "      <td>London</td>\n",
              "    </tr>\n",
              "  </tbody>\n",
              "</table>\n",
              "</div>"
            ],
            "text/plain": [
              "                        Type                       Date  ...  Year    City\n",
              "0              Person search  2018-01-01T00:55:00+00:00  ...  2018  London\n",
              "1              Person search  2018-01-01T00:58:00+00:00  ...  2018  London\n",
              "2  Person and Vehicle search  2018-01-01T01:25:00+00:00  ...  2018  London\n",
              "3  Person and Vehicle search  2018-01-01T01:25:00+00:00  ...  2018  London\n",
              "4  Person and Vehicle search  2018-01-01T01:30:00+00:00  ...  2018  London\n",
              "\n",
              "[5 rows x 18 columns]"
            ]
          },
          "metadata": {
            "tags": []
          },
          "execution_count": 15
        }
      ]
    },
    {
      "cell_type": "code",
      "metadata": {
        "colab": {
          "base_uri": "https://localhost:8080/"
        },
        "id": "NFrt6rfcexsL",
        "outputId": "1b39e4ec-9613-4f77-c4a9-12b24091e32a"
      },
      "source": [
        "df= pd.concat([essex,kent,london])\r\n",
        "df.shape\r\n"
      ],
      "execution_count": 16,
      "outputs": [
        {
          "output_type": "execute_result",
          "data": {
            "text/plain": [
              "(76773, 18)"
            ]
          },
          "metadata": {
            "tags": []
          },
          "execution_count": 16
        }
      ]
    },
    {
      "cell_type": "code",
      "metadata": {
        "colab": {
          "base_uri": "https://localhost:8080/",
          "height": 204
        },
        "id": "zurQq3Qw6SlQ",
        "outputId": "fd7bc90a-aeaf-4305-a286-31a7546be305"
      },
      "source": [
        "#Getting subset\r\n",
        "sort = df[['City','Year','Month','Officer-defined ethnicity','Self-defined ethnicity','Gender','Outcome linked to object of search']]\r\n",
        "data = sort.dropna()\r\n",
        "data = data.reset_index(drop=True)\r\n",
        "data.head()"
      ],
      "execution_count": 17,
      "outputs": [
        {
          "output_type": "execute_result",
          "data": {
            "text/html": [
              "<div>\n",
              "<style scoped>\n",
              "    .dataframe tbody tr th:only-of-type {\n",
              "        vertical-align: middle;\n",
              "    }\n",
              "\n",
              "    .dataframe tbody tr th {\n",
              "        vertical-align: top;\n",
              "    }\n",
              "\n",
              "    .dataframe thead th {\n",
              "        text-align: right;\n",
              "    }\n",
              "</style>\n",
              "<table border=\"1\" class=\"dataframe\">\n",
              "  <thead>\n",
              "    <tr style=\"text-align: right;\">\n",
              "      <th></th>\n",
              "      <th>City</th>\n",
              "      <th>Year</th>\n",
              "      <th>Month</th>\n",
              "      <th>Officer-defined ethnicity</th>\n",
              "      <th>Self-defined ethnicity</th>\n",
              "      <th>Gender</th>\n",
              "      <th>Outcome linked to object of search</th>\n",
              "    </tr>\n",
              "  </thead>\n",
              "  <tbody>\n",
              "    <tr>\n",
              "      <th>0</th>\n",
              "      <td>Essex</td>\n",
              "      <td>2018</td>\n",
              "      <td>January</td>\n",
              "      <td>Black</td>\n",
              "      <td>Black/African/Caribbean/Black British - African</td>\n",
              "      <td>Male</td>\n",
              "      <td>False</td>\n",
              "    </tr>\n",
              "    <tr>\n",
              "      <th>1</th>\n",
              "      <td>Essex</td>\n",
              "      <td>2018</td>\n",
              "      <td>January</td>\n",
              "      <td>White</td>\n",
              "      <td>White - English/Welsh/Scottish/Northern Irish/...</td>\n",
              "      <td>Male</td>\n",
              "      <td>False</td>\n",
              "    </tr>\n",
              "    <tr>\n",
              "      <th>2</th>\n",
              "      <td>Essex</td>\n",
              "      <td>2018</td>\n",
              "      <td>January</td>\n",
              "      <td>White</td>\n",
              "      <td>Other ethnic group - Not stated</td>\n",
              "      <td>Male</td>\n",
              "      <td>False</td>\n",
              "    </tr>\n",
              "    <tr>\n",
              "      <th>3</th>\n",
              "      <td>Essex</td>\n",
              "      <td>2018</td>\n",
              "      <td>January</td>\n",
              "      <td>White</td>\n",
              "      <td>Other ethnic group - Not stated</td>\n",
              "      <td>Male</td>\n",
              "      <td>False</td>\n",
              "    </tr>\n",
              "    <tr>\n",
              "      <th>4</th>\n",
              "      <td>Essex</td>\n",
              "      <td>2018</td>\n",
              "      <td>January</td>\n",
              "      <td>White</td>\n",
              "      <td>Other ethnic group - Not stated</td>\n",
              "      <td>Male</td>\n",
              "      <td>False</td>\n",
              "    </tr>\n",
              "  </tbody>\n",
              "</table>\n",
              "</div>"
            ],
            "text/plain": [
              "    City  Year  ... Gender Outcome linked to object of search\n",
              "0  Essex  2018  ...   Male                              False\n",
              "1  Essex  2018  ...   Male                              False\n",
              "2  Essex  2018  ...   Male                              False\n",
              "3  Essex  2018  ...   Male                              False\n",
              "4  Essex  2018  ...   Male                              False\n",
              "\n",
              "[5 rows x 7 columns]"
            ]
          },
          "metadata": {
            "tags": []
          },
          "execution_count": 17
        }
      ]
    },
    {
      "cell_type": "code",
      "metadata": {
        "colab": {
          "base_uri": "https://localhost:8080/"
        },
        "id": "1DPdz25Y6dR7",
        "outputId": "78a03a62-4e5d-409e-c632-8a3cbce7c679"
      },
      "source": [
        "#shape of data\r\n",
        "data.shape"
      ],
      "execution_count": 8,
      "outputs": [
        {
          "output_type": "execute_result",
          "data": {
            "text/plain": [
              "(72443, 7)"
            ]
          },
          "metadata": {
            "tags": []
          },
          "execution_count": 8
        }
      ]
    },
    {
      "cell_type": "code",
      "metadata": {
        "colab": {
          "base_uri": "https://localhost:8080/",
          "height": 17
        },
        "id": "JHrU-IX26fUo",
        "outputId": "4dad9706-504b-4e74-c78a-a4bc64222c7f"
      },
      "source": [
        "#downloading the final data file\r\n",
        "from google.colab import files\r\n",
        "data.to_csv('finaldata.csv') \r\n",
        "files.download('finaldata.csv')"
      ],
      "execution_count": 9,
      "outputs": [
        {
          "output_type": "display_data",
          "data": {
            "application/javascript": [
              "\n",
              "    async function download(id, filename, size) {\n",
              "      if (!google.colab.kernel.accessAllowed) {\n",
              "        return;\n",
              "      }\n",
              "      const div = document.createElement('div');\n",
              "      const label = document.createElement('label');\n",
              "      label.textContent = `Downloading \"${filename}\": `;\n",
              "      div.appendChild(label);\n",
              "      const progress = document.createElement('progress');\n",
              "      progress.max = size;\n",
              "      div.appendChild(progress);\n",
              "      document.body.appendChild(div);\n",
              "\n",
              "      const buffers = [];\n",
              "      let downloaded = 0;\n",
              "\n",
              "      const channel = await google.colab.kernel.comms.open(id);\n",
              "      // Send a message to notify the kernel that we're ready.\n",
              "      channel.send({})\n",
              "\n",
              "      for await (const message of channel.messages) {\n",
              "        // Send a message to notify the kernel that we're ready.\n",
              "        channel.send({})\n",
              "        if (message.buffers) {\n",
              "          for (const buffer of message.buffers) {\n",
              "            buffers.push(buffer);\n",
              "            downloaded += buffer.byteLength;\n",
              "            progress.value = downloaded;\n",
              "          }\n",
              "        }\n",
              "      }\n",
              "      const blob = new Blob(buffers, {type: 'application/binary'});\n",
              "      const a = document.createElement('a');\n",
              "      a.href = window.URL.createObjectURL(blob);\n",
              "      a.download = filename;\n",
              "      div.appendChild(a);\n",
              "      a.click();\n",
              "      div.remove();\n",
              "    }\n",
              "  "
            ],
            "text/plain": [
              "<IPython.core.display.Javascript object>"
            ]
          },
          "metadata": {
            "tags": []
          }
        },
        {
          "output_type": "display_data",
          "data": {
            "application/javascript": [
              "download(\"download_cda76494-8bb2-4b8d-9787-b64c51f3c636\", \"finaldata.csv\", 6578595)"
            ],
            "text/plain": [
              "<IPython.core.display.Javascript object>"
            ]
          },
          "metadata": {
            "tags": []
          }
        }
      ]
    },
    {
      "cell_type": "code",
      "metadata": {
        "colab": {
          "base_uri": "https://localhost:8080/",
          "height": 204
        },
        "id": "Vcjc5Wk5SwL1",
        "outputId": "825b6011-28e6-4ce3-fa68-fc4282a50c81"
      },
      "source": [
        "#renaming the column name to standard\r\n",
        "\r\n",
        "data.columns= data.columns.str.lower().str.replace('(','').str.replace(')','').str.replace('-','_').str.replace(' ','_')\r\n",
        "data.head()"
      ],
      "execution_count": 18,
      "outputs": [
        {
          "output_type": "execute_result",
          "data": {
            "text/html": [
              "<div>\n",
              "<style scoped>\n",
              "    .dataframe tbody tr th:only-of-type {\n",
              "        vertical-align: middle;\n",
              "    }\n",
              "\n",
              "    .dataframe tbody tr th {\n",
              "        vertical-align: top;\n",
              "    }\n",
              "\n",
              "    .dataframe thead th {\n",
              "        text-align: right;\n",
              "    }\n",
              "</style>\n",
              "<table border=\"1\" class=\"dataframe\">\n",
              "  <thead>\n",
              "    <tr style=\"text-align: right;\">\n",
              "      <th></th>\n",
              "      <th>city</th>\n",
              "      <th>year</th>\n",
              "      <th>month</th>\n",
              "      <th>officer_defined_ethnicity</th>\n",
              "      <th>self_defined_ethnicity</th>\n",
              "      <th>gender</th>\n",
              "      <th>outcome_linked_to_object_of_search</th>\n",
              "    </tr>\n",
              "  </thead>\n",
              "  <tbody>\n",
              "    <tr>\n",
              "      <th>0</th>\n",
              "      <td>Essex</td>\n",
              "      <td>2018</td>\n",
              "      <td>January</td>\n",
              "      <td>Black</td>\n",
              "      <td>Black/African/Caribbean/Black British - African</td>\n",
              "      <td>Male</td>\n",
              "      <td>False</td>\n",
              "    </tr>\n",
              "    <tr>\n",
              "      <th>1</th>\n",
              "      <td>Essex</td>\n",
              "      <td>2018</td>\n",
              "      <td>January</td>\n",
              "      <td>White</td>\n",
              "      <td>White - English/Welsh/Scottish/Northern Irish/...</td>\n",
              "      <td>Male</td>\n",
              "      <td>False</td>\n",
              "    </tr>\n",
              "    <tr>\n",
              "      <th>2</th>\n",
              "      <td>Essex</td>\n",
              "      <td>2018</td>\n",
              "      <td>January</td>\n",
              "      <td>White</td>\n",
              "      <td>Other ethnic group - Not stated</td>\n",
              "      <td>Male</td>\n",
              "      <td>False</td>\n",
              "    </tr>\n",
              "    <tr>\n",
              "      <th>3</th>\n",
              "      <td>Essex</td>\n",
              "      <td>2018</td>\n",
              "      <td>January</td>\n",
              "      <td>White</td>\n",
              "      <td>Other ethnic group - Not stated</td>\n",
              "      <td>Male</td>\n",
              "      <td>False</td>\n",
              "    </tr>\n",
              "    <tr>\n",
              "      <th>4</th>\n",
              "      <td>Essex</td>\n",
              "      <td>2018</td>\n",
              "      <td>January</td>\n",
              "      <td>White</td>\n",
              "      <td>Other ethnic group - Not stated</td>\n",
              "      <td>Male</td>\n",
              "      <td>False</td>\n",
              "    </tr>\n",
              "  </tbody>\n",
              "</table>\n",
              "</div>"
            ],
            "text/plain": [
              "    city  year  ... gender outcome_linked_to_object_of_search\n",
              "0  Essex  2018  ...   Male                              False\n",
              "1  Essex  2018  ...   Male                              False\n",
              "2  Essex  2018  ...   Male                              False\n",
              "3  Essex  2018  ...   Male                              False\n",
              "4  Essex  2018  ...   Male                              False\n",
              "\n",
              "[5 rows x 7 columns]"
            ]
          },
          "metadata": {
            "tags": []
          },
          "execution_count": 18
        }
      ]
    },
    {
      "cell_type": "code",
      "metadata": {
        "colab": {
          "base_uri": "https://localhost:8080/"
        },
        "id": "_NidKKvPyhsG",
        "outputId": "700c5b33-1982-48c1-d738-c7aba6aaf2b1"
      },
      "source": [
        "data.info()"
      ],
      "execution_count": 19,
      "outputs": [
        {
          "output_type": "stream",
          "text": [
            "<class 'pandas.core.frame.DataFrame'>\n",
            "RangeIndex: 72443 entries, 0 to 72442\n",
            "Data columns (total 7 columns):\n",
            " #   Column                              Non-Null Count  Dtype \n",
            "---  ------                              --------------  ----- \n",
            " 0   city                                72443 non-null  object\n",
            " 1   year                                72443 non-null  int64 \n",
            " 2   month                               72443 non-null  object\n",
            " 3   officer_defined_ethnicity           72443 non-null  object\n",
            " 4   self_defined_ethnicity              72443 non-null  object\n",
            " 5   gender                              72443 non-null  object\n",
            " 6   outcome_linked_to_object_of_search  72443 non-null  object\n",
            "dtypes: int64(1), object(6)\n",
            "memory usage: 3.9+ MB\n"
          ],
          "name": "stdout"
        }
      ]
    },
    {
      "cell_type": "code",
      "metadata": {
        "colab": {
          "base_uri": "https://localhost:8080/"
        },
        "id": "6OWz7_4H2_cN",
        "outputId": "e653ce38-bafe-4a84-a8d9-e0248080e4e1"
      },
      "source": [
        "#EDA frequency distribution of categorical data\r\n",
        "\r\n",
        "print(data['self_defined_ethnicity'].value_counts())"
      ],
      "execution_count": 44,
      "outputs": [
        {
          "output_type": "stream",
          "text": [
            "White - English/Welsh/Scottish/Northern Irish/British                                   46203\n",
            "Other ethnic group - Not stated                                                          8376\n",
            "White - Any other White background                                                       5112\n",
            "Black/African/Caribbean/Black British - African                                          3129\n",
            "Black/African/Caribbean/Black British - Any other Black/African/Caribbean background     2115\n",
            "Asian/Asian British - Any other Asian background                                         1584\n",
            "Black/African/Caribbean/Black British - Caribbean                                        1533\n",
            "Mixed/Multiple ethnic groups - Any other Mixed/Multiple ethnic background                1020\n",
            "Asian/Asian British - Bangladeshi                                                         589\n",
            "Other ethnic group - Any other ethnic group                                               499\n",
            "Asian/Asian British - Indian                                                              494\n",
            "Mixed/Multiple ethnic groups - White and Black Caribbean                                  478\n",
            "White - Irish                                                                             393\n",
            "Asian/Asian British - Pakistani                                                           387\n",
            "Mixed/Multiple ethnic groups - White and Black African                                    244\n",
            "Mixed/Multiple ethnic groups - White and Asian                                            173\n",
            "Asian/Asian British - Chinese                                                             114\n",
            "Name: self_defined_ethnicity, dtype: int64\n"
          ],
          "name": "stdout"
        }
      ]
    },
    {
      "cell_type": "code",
      "metadata": {
        "colab": {
          "base_uri": "https://localhost:8080/"
        },
        "id": "X5uLHS3t3rcK",
        "outputId": "a7cb47e4-1f81-4008-f55a-a0547cbae96c"
      },
      "source": [
        "print(data['officer_defined_ethnicity'].value_counts())"
      ],
      "execution_count": 45,
      "outputs": [
        {
          "output_type": "stream",
          "text": [
            "White    55860\n",
            "Black     8425\n",
            "Asian     3937\n",
            "Other     3464\n",
            "Mixed      757\n",
            "Name: officer_defined_ethnicity, dtype: int64\n"
          ],
          "name": "stdout"
        }
      ]
    },
    {
      "cell_type": "code",
      "metadata": {
        "id": "Liqm0P4FGGcd",
        "outputId": "3bb2d9c1-ca78-40f6-d132-c9d3a49523c5",
        "colab": {
          "base_uri": "https://localhost:8080/",
          "height": 493
        }
      },
      "source": [
        "bx = data['officer_defined_ethnicity'].value_counts().plot(kind='bar', figsize=(10,7),\r\n",
        "                                                  color=\"indigo\", fontsize=13);\r\n",
        "bx.set_alpha(0.8)\r\n",
        "bx.set_title(\"Frequency Distribution of Police Officers\", fontsize=12)\r\n",
        "plt.ylabel('Number of Occurrences in policing', fontsize=12)\r\n",
        "plt.xlabel('Police', fontsize=12)\r\n",
        "\r\n",
        "totals = []\r\n",
        "\r\n",
        "# find the values and append to list\r\n",
        "for i in bx.patches:\r\n",
        "    totals.append(i.get_height())\r\n",
        "\r\n",
        "# set individual bar lables using above list\r\n",
        "total = sum(totals)\r\n",
        "\r\n",
        "# set individual bar lables using above list\r\n",
        "for i in bx.patches:\r\n",
        "    # get_x pulls left or right; get_height pushes up or down\r\n",
        "    bx.text(i.get_x()+0.08, i.get_height()-3, \\\r\n",
        "            str(round((i.get_height()/total)*100, 2))+'%', fontsize=13.5,\r\n",
        "                color='red')"
      ],
      "execution_count": 62,
      "outputs": [
        {
          "output_type": "display_data",
          "data": {
            "image/png": "[encoded data removed]",
            "text/plain": [
              "<Figure size 720x504 with 1 Axes>"
            ]
          },
          "metadata": {
            "tags": []
          }
        }
      ]
    },
    {
      "cell_type": "code",
      "metadata": {
        "colab": {
          "base_uri": "https://localhost:8080/",
          "height": 486
        },
        "id": "jO--8qa2lPgP",
        "outputId": "cf422d2e-cf55-40c9-af24-d00f924f15d9"
      },
      "source": [
        "ax = data['outcome_linked_to_object_of_search'].value_counts().plot(kind='bar', figsize=(10,7),\r\n",
        "                                                  color=\"indigo\", fontsize=13);\r\n",
        "ax.set_alpha(0.8)\r\n",
        "ax.set_title(\"Frequency Distribution of Arrests\", fontsize=12)\r\n",
        "plt.ylabel('Number of Occurrences in policing', fontsize=12)\r\n",
        "plt.xlabel('Arrests', fontsize=12)\r\n",
        "\r\n",
        "totals = []\r\n",
        "\r\n",
        "# find the values and append to list\r\n",
        "for i in ax.patches:\r\n",
        "    totals.append(i.get_height())\r\n",
        "\r\n",
        "# set individual bar lables using above list\r\n",
        "total = sum(totals)\r\n",
        "\r\n",
        "# set individual bar lables using above list\r\n",
        "for i in ax.patches:\r\n",
        "    # get_x pulls left or right; get_height pushes up or down\r\n",
        "    ax.text(i.get_x()+.19, i.get_height()+0, \\\r\n",
        "            str(round((i.get_height()/total)*100, 2))+'%', fontsize=13.5,\r\n",
        "                color='red')\r\n",
        "\r\n"
      ],
      "execution_count": 60,
      "outputs": [
        {
          "output_type": "display_data",
          "data": {
            "image/png": "[encoded data removed]",
            "text/plain": [
              "<Figure size 720x504 with 1 Axes>"
            ]
          },
          "metadata": {
            "tags": []
          }
        }
      ]
    },
    {
      "cell_type": "code",
      "metadata": {
        "colab": {
          "base_uri": "https://localhost:8080/",
          "height": 517
        },
        "id": "r1Frnvg8pxA-",
        "outputId": "5851bd23-3f37-4e16-dc66-5ca673a7a7e8"
      },
      "source": [
        "plt.figure(figsize=(15, 8))\r\n",
        "ax = sns.countplot(y='self_defined_ethnicity', data=data,\r\n",
        "                   order = data.self_defined_ethnicity.value_counts().iloc[:20].index)\r\n",
        "plt.title('Arrests')\r\n",
        "plt.ylabel('Ethnicity of people who was searched', fontsize=12)\r\n",
        "plt.xlabel('Number of search', fontsize=12)\r\n",
        "plt.show()"
      ],
      "execution_count": 29,
      "outputs": [
        {
          "output_type": "display_data",
          "data": {
            "image/png": "[encoded data removed]",
            "text/plain": [
              "<Figure size 1080x576 with 1 Axes>"
            ]
          },
          "metadata": {
            "tags": []
          }
        }
      ]
    },
    {
      "cell_type": "code",
      "metadata": {
        "colab": {
          "base_uri": "https://localhost:8080/",
          "height": 197
        },
        "id": "CLNcUgnOsEMH",
        "outputId": "10b838e7-f213-4296-a5df-ae5ad21eacb9"
      },
      "source": [
        "one = data[['city','self_defined_ethnicity','outcome_linked_to_object_of_search']]\r\n",
        "one.head()"
      ],
      "execution_count": 17,
      "outputs": [
        {
          "output_type": "execute_result",
          "data": {
            "text/html": [
              "<div>\n",
              "<style scoped>\n",
              "    .dataframe tbody tr th:only-of-type {\n",
              "        vertical-align: middle;\n",
              "    }\n",
              "\n",
              "    .dataframe tbody tr th {\n",
              "        vertical-align: top;\n",
              "    }\n",
              "\n",
              "    .dataframe thead th {\n",
              "        text-align: right;\n",
              "    }\n",
              "</style>\n",
              "<table border=\"1\" class=\"dataframe\">\n",
              "  <thead>\n",
              "    <tr style=\"text-align: right;\">\n",
              "      <th></th>\n",
              "      <th>city</th>\n",
              "      <th>self_defined_ethnicity</th>\n",
              "      <th>outcome_linked_to_object_of_search</th>\n",
              "    </tr>\n",
              "  </thead>\n",
              "  <tbody>\n",
              "    <tr>\n",
              "      <th>0</th>\n",
              "      <td>Essex</td>\n",
              "      <td>Black/African/Caribbean/Black British - African</td>\n",
              "      <td>False</td>\n",
              "    </tr>\n",
              "    <tr>\n",
              "      <th>1</th>\n",
              "      <td>Essex</td>\n",
              "      <td>White - English/Welsh/Scottish/Northern Irish/...</td>\n",
              "      <td>False</td>\n",
              "    </tr>\n",
              "    <tr>\n",
              "      <th>2</th>\n",
              "      <td>Essex</td>\n",
              "      <td>Other ethnic group - Not stated</td>\n",
              "      <td>False</td>\n",
              "    </tr>\n",
              "    <tr>\n",
              "      <th>3</th>\n",
              "      <td>Essex</td>\n",
              "      <td>Other ethnic group - Not stated</td>\n",
              "      <td>False</td>\n",
              "    </tr>\n",
              "    <tr>\n",
              "      <th>4</th>\n",
              "      <td>Essex</td>\n",
              "      <td>Other ethnic group - Not stated</td>\n",
              "      <td>False</td>\n",
              "    </tr>\n",
              "  </tbody>\n",
              "</table>\n",
              "</div>"
            ],
            "text/plain": [
              "    city  ... outcome_linked_to_object_of_search\n",
              "0  Essex  ...                              False\n",
              "1  Essex  ...                              False\n",
              "2  Essex  ...                              False\n",
              "3  Essex  ...                              False\n",
              "4  Essex  ...                              False\n",
              "\n",
              "[5 rows x 3 columns]"
            ]
          },
          "metadata": {
            "tags": []
          },
          "execution_count": 17
        }
      ]
    },
    {
      "cell_type": "code",
      "metadata": {
        "colab": {
          "base_uri": "https://localhost:8080/"
        },
        "id": "EYKELZ9IxY7V",
        "outputId": "d8902492-1b2d-4fe2-903e-45584f9caaaf"
      },
      "source": [
        "from sklearn.preprocessing import LabelEncoder\r\n",
        "labelencoder = LabelEncoder()\r\n",
        "one['outcome_linked_to_object_of_search'] = labelencoder.fit_transform(one['outcome_linked_to_object_of_search'])\r\n",
        "one['city'] = labelencoder.fit_transform(one['city'])\r\n",
        "one = pd.get_dummies(one, columns=['self_defined_ethnicity'], prefix = ['self'])\r\n",
        "print(one.head())"
      ],
      "execution_count": 18,
      "outputs": [
        {
          "output_type": "stream",
          "text": [
            "   city  ...  self_White - Irish\n",
            "0     0  ...                   0\n",
            "1     0  ...                   0\n",
            "2     0  ...                   0\n",
            "3     0  ...                   0\n",
            "4     0  ...                   0\n",
            "\n",
            "[5 rows x 19 columns]\n"
          ],
          "name": "stdout"
        }
      ]
    },
    {
      "cell_type": "code",
      "metadata": {
        "colab": {
          "base_uri": "https://localhost:8080/"
        },
        "id": "IhCQqs9T1BY3",
        "outputId": "c0e94822-2c89-4668-dce8-c8103f68bb04"
      },
      "source": [
        "search_count=one['outcome_linked_to_object_of_search'].value_counts()\r\n",
        "search_count"
      ],
      "execution_count": 19,
      "outputs": [
        {
          "output_type": "execute_result",
          "data": {
            "text/plain": [
              "0    54546\n",
              "1    17897\n",
              "Name: outcome_linked_to_object_of_search, dtype: int64"
            ]
          },
          "metadata": {
            "tags": []
          },
          "execution_count": 19
        }
      ]
    }
  ]
}